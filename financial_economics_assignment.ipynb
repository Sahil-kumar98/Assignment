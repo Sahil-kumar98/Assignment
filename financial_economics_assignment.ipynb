{
 "cells": [
  {
   "cell_type": "markdown",
   "metadata": {},
   "source": [
    "## Assignment, Finanacial Economics"
   ]
  },
  {
   "cell_type": "markdown",
   "metadata": {},
   "source": [
    "### importing important library "
   ]
  },
  {
   "cell_type": "code",
   "execution_count": 1,
   "metadata": {},
   "outputs": [],
   "source": [
    "import pandas as pd\n",
    "import numpy as np\n",
    "import matplotlib.pyplot as plt\n",
    "from scipy.stats import kurtosis, skew\n",
    "%matplotlib inline"
   ]
  },
  {
   "cell_type": "markdown",
   "metadata": {},
   "source": [
    "## importing CSV Data file for HDFC LTD"
   ]
  },
  {
   "cell_type": "code",
   "execution_count": 2,
   "metadata": {},
   "outputs": [],
   "source": [
    "df2021 = pd.read_csv('../priya/Downloads/01-01-2021-TO-15-10-2021HDFCALLN.csv') \n",
    "df2020 = pd.read_csv('../priya/Downloads/01-01-2020-TO-31-12-2020HDFCALLN.csv')\n",
    "df2019 = pd.read_csv('../priya/Downloads/01-01-2019-TO-31-12-2019HDFCALLN.csv') \n",
    "df2018 = pd.read_csv('../priya/Downloads/01-01-2018-TO-31-12-2018HDFCALLN.csv') \n",
    "df2017 = pd.read_csv('../priya/Downloads/01-01-2017-TO-31-12-2017HDFCALLN.csv') \n",
    "df2016 = pd.read_csv('../priya/Downloads/01-01-2016-TO-31-12-2016HDFCALLN.csv')\n",
    "df2015 = pd.read_csv('../priya/Downloads/01-01-2015-TO-31-12-2015HDFCALLN.csv')\n",
    "df2014 = pd.read_csv('../priya/Downloads/01-01-2014-TO-31-12-2014HDFCALLN.csv')\n",
    "df2013 = pd.read_csv('../priya/Downloads/01-01-2013-TO-31-12-2013HDFCALLN.csv')\n",
    "df2012 = pd.read_csv('../priya/Downloads/01-01-2012-TO-31-12-2012HDFCALLN.csv')\n",
    "df2011 = pd.read_csv('../priya/Downloads/01-01-2011-TO-31-12-2011HDFC.csv')"
   ]
  },
  {
   "cell_type": "markdown",
   "metadata": {},
   "source": [
    "## Concating all these 10 file into single table "
   ]
  },
  {
   "cell_type": "code",
   "execution_count": 3,
   "metadata": {},
   "outputs": [],
   "source": [
    "hdfc_close_price = pd.concat([df2021,df2020,df2019,df2018,df2017,df2016,df2015,df2014,df2013,df2012,df2011], axis=0)"
   ]
  },
  {
   "cell_type": "markdown",
   "metadata": {},
   "source": [
    "### Showing head of Table "
   ]
  },
  {
   "cell_type": "code",
   "execution_count": 4,
   "metadata": {
    "scrolled": false
   },
   "outputs": [
    {
     "data": {
      "text/html": [
       "<div>\n",
       "<style scoped>\n",
       "    .dataframe tbody tr th:only-of-type {\n",
       "        vertical-align: middle;\n",
       "    }\n",
       "\n",
       "    .dataframe tbody tr th {\n",
       "        vertical-align: top;\n",
       "    }\n",
       "\n",
       "    .dataframe thead th {\n",
       "        text-align: right;\n",
       "    }\n",
       "</style>\n",
       "<table border=\"1\" class=\"dataframe\">\n",
       "  <thead>\n",
       "    <tr style=\"text-align: right;\">\n",
       "      <th></th>\n",
       "      <th>Symbol</th>\n",
       "      <th>Series</th>\n",
       "      <th>Date</th>\n",
       "      <th>Prev Close</th>\n",
       "      <th>Open Price</th>\n",
       "      <th>High Price</th>\n",
       "      <th>Low Price</th>\n",
       "      <th>Last Price</th>\n",
       "      <th>Close Price</th>\n",
       "      <th>Average Price</th>\n",
       "      <th>Total Traded Quantity</th>\n",
       "      <th>Turnover</th>\n",
       "      <th>No. of Trades</th>\n",
       "      <th>Deliverable Qty</th>\n",
       "      <th>% Dly Qt to Traded Qty</th>\n",
       "    </tr>\n",
       "  </thead>\n",
       "  <tbody>\n",
       "    <tr>\n",
       "      <th>0</th>\n",
       "      <td>HDFC</td>\n",
       "      <td>EQ</td>\n",
       "      <td>01-Jan-2021</td>\n",
       "      <td>2558.65</td>\n",
       "      <td>2549.0</td>\n",
       "      <td>2593.30</td>\n",
       "      <td>2541.15</td>\n",
       "      <td>2565.00</td>\n",
       "      <td>2568.75</td>\n",
       "      <td>2574.95</td>\n",
       "      <td>2054108</td>\n",
       "      <td>5.289220e+09</td>\n",
       "      <td>77982</td>\n",
       "      <td>564766</td>\n",
       "      <td>27.49</td>\n",
       "    </tr>\n",
       "    <tr>\n",
       "      <th>1</th>\n",
       "      <td>HDFC</td>\n",
       "      <td>W3</td>\n",
       "      <td>01-Jan-2021</td>\n",
       "      <td>752.60</td>\n",
       "      <td>759.0</td>\n",
       "      <td>775.00</td>\n",
       "      <td>747.10</td>\n",
       "      <td>760.00</td>\n",
       "      <td>757.70</td>\n",
       "      <td>761.87</td>\n",
       "      <td>30600</td>\n",
       "      <td>2.331333e+07</td>\n",
       "      <td>50</td>\n",
       "      <td>19800</td>\n",
       "      <td>64.71</td>\n",
       "    </tr>\n",
       "    <tr>\n",
       "      <th>2</th>\n",
       "      <td>HDFC</td>\n",
       "      <td>EQ</td>\n",
       "      <td>04-Jan-2021</td>\n",
       "      <td>2568.75</td>\n",
       "      <td>2576.9</td>\n",
       "      <td>2592.35</td>\n",
       "      <td>2533.15</td>\n",
       "      <td>2579.00</td>\n",
       "      <td>2578.50</td>\n",
       "      <td>2568.41</td>\n",
       "      <td>2795972</td>\n",
       "      <td>7.181188e+09</td>\n",
       "      <td>99023</td>\n",
       "      <td>1419319</td>\n",
       "      <td>50.76</td>\n",
       "    </tr>\n",
       "    <tr>\n",
       "      <th>3</th>\n",
       "      <td>HDFC</td>\n",
       "      <td>W3</td>\n",
       "      <td>04-Jan-2021</td>\n",
       "      <td>757.70</td>\n",
       "      <td>760.0</td>\n",
       "      <td>763.60</td>\n",
       "      <td>740.00</td>\n",
       "      <td>756.15</td>\n",
       "      <td>758.05</td>\n",
       "      <td>757.37</td>\n",
       "      <td>18600</td>\n",
       "      <td>1.408701e+07</td>\n",
       "      <td>29</td>\n",
       "      <td>12000</td>\n",
       "      <td>64.52</td>\n",
       "    </tr>\n",
       "    <tr>\n",
       "      <th>4</th>\n",
       "      <td>HDFC</td>\n",
       "      <td>EQ</td>\n",
       "      <td>05-Jan-2021</td>\n",
       "      <td>2578.50</td>\n",
       "      <td>2589.0</td>\n",
       "      <td>2659.45</td>\n",
       "      <td>2572.40</td>\n",
       "      <td>2654.95</td>\n",
       "      <td>2651.85</td>\n",
       "      <td>2631.43</td>\n",
       "      <td>5870743</td>\n",
       "      <td>1.544844e+10</td>\n",
       "      <td>191487</td>\n",
       "      <td>3136561</td>\n",
       "      <td>53.43</td>\n",
       "    </tr>\n",
       "  </tbody>\n",
       "</table>\n",
       "</div>"
      ],
      "text/plain": [
       "  Symbol Series         Date  Prev Close  Open Price  High Price  Low Price  \\\n",
       "0   HDFC     EQ  01-Jan-2021     2558.65      2549.0     2593.30    2541.15   \n",
       "1   HDFC     W3  01-Jan-2021      752.60       759.0      775.00     747.10   \n",
       "2   HDFC     EQ  04-Jan-2021     2568.75      2576.9     2592.35    2533.15   \n",
       "3   HDFC     W3  04-Jan-2021      757.70       760.0      763.60     740.00   \n",
       "4   HDFC     EQ  05-Jan-2021     2578.50      2589.0     2659.45    2572.40   \n",
       "\n",
       "   Last Price  Close Price  Average Price  Total Traded Quantity  \\\n",
       "0     2565.00      2568.75        2574.95                2054108   \n",
       "1      760.00       757.70         761.87                  30600   \n",
       "2     2579.00      2578.50        2568.41                2795972   \n",
       "3      756.15       758.05         757.37                  18600   \n",
       "4     2654.95      2651.85        2631.43                5870743   \n",
       "\n",
       "       Turnover No. of Trades Deliverable Qty % Dly Qt to Traded Qty  \n",
       "0  5.289220e+09         77982          564766                  27.49  \n",
       "1  2.331333e+07            50           19800                  64.71  \n",
       "2  7.181188e+09         99023         1419319                  50.76  \n",
       "3  1.408701e+07            29           12000                  64.52  \n",
       "4  1.544844e+10        191487         3136561                  53.43  "
      ]
     },
     "execution_count": 4,
     "metadata": {},
     "output_type": "execute_result"
    }
   ],
   "source": [
    "hdfc_close_price.head()"
   ]
  },
  {
   "cell_type": "markdown",
   "metadata": {},
   "source": [
    "### getting only data of HDFC ltd under \"equity category (EQ)\" Series"
   ]
  },
  {
   "cell_type": "code",
   "execution_count": 5,
   "metadata": {},
   "outputs": [],
   "source": [
    "hdfc_close_price = hdfc_close_price[hdfc_close_price['Series'] == 'EQ']"
   ]
  },
  {
   "cell_type": "code",
   "execution_count": 6,
   "metadata": {},
   "outputs": [
    {
     "data": {
      "text/html": [
       "<div>\n",
       "<style scoped>\n",
       "    .dataframe tbody tr th:only-of-type {\n",
       "        vertical-align: middle;\n",
       "    }\n",
       "\n",
       "    .dataframe tbody tr th {\n",
       "        vertical-align: top;\n",
       "    }\n",
       "\n",
       "    .dataframe thead th {\n",
       "        text-align: right;\n",
       "    }\n",
       "</style>\n",
       "<table border=\"1\" class=\"dataframe\">\n",
       "  <thead>\n",
       "    <tr style=\"text-align: right;\">\n",
       "      <th></th>\n",
       "      <th>Symbol</th>\n",
       "      <th>Series</th>\n",
       "      <th>Date</th>\n",
       "      <th>Prev Close</th>\n",
       "      <th>Open Price</th>\n",
       "      <th>High Price</th>\n",
       "      <th>Low Price</th>\n",
       "      <th>Last Price</th>\n",
       "      <th>Close Price</th>\n",
       "      <th>Average Price</th>\n",
       "      <th>Total Traded Quantity</th>\n",
       "      <th>Turnover</th>\n",
       "      <th>No. of Trades</th>\n",
       "      <th>Deliverable Qty</th>\n",
       "      <th>% Dly Qt to Traded Qty</th>\n",
       "    </tr>\n",
       "  </thead>\n",
       "  <tbody>\n",
       "    <tr>\n",
       "      <th>0</th>\n",
       "      <td>HDFC</td>\n",
       "      <td>EQ</td>\n",
       "      <td>01-Jan-2021</td>\n",
       "      <td>2558.65</td>\n",
       "      <td>2549.0</td>\n",
       "      <td>2593.30</td>\n",
       "      <td>2541.15</td>\n",
       "      <td>2565.00</td>\n",
       "      <td>2568.75</td>\n",
       "      <td>2574.95</td>\n",
       "      <td>2054108</td>\n",
       "      <td>5.289220e+09</td>\n",
       "      <td>77982</td>\n",
       "      <td>564766</td>\n",
       "      <td>27.49</td>\n",
       "    </tr>\n",
       "    <tr>\n",
       "      <th>2</th>\n",
       "      <td>HDFC</td>\n",
       "      <td>EQ</td>\n",
       "      <td>04-Jan-2021</td>\n",
       "      <td>2568.75</td>\n",
       "      <td>2576.9</td>\n",
       "      <td>2592.35</td>\n",
       "      <td>2533.15</td>\n",
       "      <td>2579.00</td>\n",
       "      <td>2578.50</td>\n",
       "      <td>2568.41</td>\n",
       "      <td>2795972</td>\n",
       "      <td>7.181188e+09</td>\n",
       "      <td>99023</td>\n",
       "      <td>1419319</td>\n",
       "      <td>50.76</td>\n",
       "    </tr>\n",
       "    <tr>\n",
       "      <th>4</th>\n",
       "      <td>HDFC</td>\n",
       "      <td>EQ</td>\n",
       "      <td>05-Jan-2021</td>\n",
       "      <td>2578.50</td>\n",
       "      <td>2589.0</td>\n",
       "      <td>2659.45</td>\n",
       "      <td>2572.40</td>\n",
       "      <td>2654.95</td>\n",
       "      <td>2651.85</td>\n",
       "      <td>2631.43</td>\n",
       "      <td>5870743</td>\n",
       "      <td>1.544844e+10</td>\n",
       "      <td>191487</td>\n",
       "      <td>3136561</td>\n",
       "      <td>53.43</td>\n",
       "    </tr>\n",
       "    <tr>\n",
       "      <th>6</th>\n",
       "      <td>HDFC</td>\n",
       "      <td>EQ</td>\n",
       "      <td>06-Jan-2021</td>\n",
       "      <td>2651.85</td>\n",
       "      <td>2664.7</td>\n",
       "      <td>2665.00</td>\n",
       "      <td>2619.00</td>\n",
       "      <td>2631.00</td>\n",
       "      <td>2638.85</td>\n",
       "      <td>2642.51</td>\n",
       "      <td>3401085</td>\n",
       "      <td>8.987386e+09</td>\n",
       "      <td>126726</td>\n",
       "      <td>1679728</td>\n",
       "      <td>49.39</td>\n",
       "    </tr>\n",
       "    <tr>\n",
       "      <th>8</th>\n",
       "      <td>HDFC</td>\n",
       "      <td>EQ</td>\n",
       "      <td>07-Jan-2021</td>\n",
       "      <td>2638.85</td>\n",
       "      <td>2670.0</td>\n",
       "      <td>2709.35</td>\n",
       "      <td>2647.40</td>\n",
       "      <td>2653.45</td>\n",
       "      <td>2661.35</td>\n",
       "      <td>2680.83</td>\n",
       "      <td>4106042</td>\n",
       "      <td>1.100758e+10</td>\n",
       "      <td>183933</td>\n",
       "      <td>2215445</td>\n",
       "      <td>53.96</td>\n",
       "    </tr>\n",
       "  </tbody>\n",
       "</table>\n",
       "</div>"
      ],
      "text/plain": [
       "  Symbol Series         Date  Prev Close  Open Price  High Price  Low Price  \\\n",
       "0   HDFC     EQ  01-Jan-2021     2558.65      2549.0     2593.30    2541.15   \n",
       "2   HDFC     EQ  04-Jan-2021     2568.75      2576.9     2592.35    2533.15   \n",
       "4   HDFC     EQ  05-Jan-2021     2578.50      2589.0     2659.45    2572.40   \n",
       "6   HDFC     EQ  06-Jan-2021     2651.85      2664.7     2665.00    2619.00   \n",
       "8   HDFC     EQ  07-Jan-2021     2638.85      2670.0     2709.35    2647.40   \n",
       "\n",
       "   Last Price  Close Price  Average Price  Total Traded Quantity  \\\n",
       "0     2565.00      2568.75        2574.95                2054108   \n",
       "2     2579.00      2578.50        2568.41                2795972   \n",
       "4     2654.95      2651.85        2631.43                5870743   \n",
       "6     2631.00      2638.85        2642.51                3401085   \n",
       "8     2653.45      2661.35        2680.83                4106042   \n",
       "\n",
       "       Turnover No. of Trades Deliverable Qty % Dly Qt to Traded Qty  \n",
       "0  5.289220e+09         77982          564766                  27.49  \n",
       "2  7.181188e+09         99023         1419319                  50.76  \n",
       "4  1.544844e+10        191487         3136561                  53.43  \n",
       "6  8.987386e+09        126726         1679728                  49.39  \n",
       "8  1.100758e+10        183933         2215445                  53.96  "
      ]
     },
     "execution_count": 6,
     "metadata": {},
     "output_type": "execute_result"
    }
   ],
   "source": [
    "## showing Head \n",
    "hdfc_close_price.head()"
   ]
  },
  {
   "cell_type": "code",
   "execution_count": 7,
   "metadata": {},
   "outputs": [
    {
     "data": {
      "text/plain": [
       "Index(['Symbol', 'Series', 'Date', 'Prev Close', 'Open Price', 'High Price',\n",
       "       'Low Price', 'Last Price', 'Close Price', 'Average Price',\n",
       "       'Total Traded Quantity', 'Turnover', 'No. of Trades', 'Deliverable Qty',\n",
       "       '% Dly Qt to Traded Qty'],\n",
       "      dtype='object')"
      ]
     },
     "execution_count": 7,
     "metadata": {},
     "output_type": "execute_result"
    }
   ],
   "source": [
    "## Getting name of all columns in table\n",
    "hdfc_close_price.columns"
   ]
  },
  {
   "cell_type": "markdown",
   "metadata": {},
   "source": [
    "## keeping only 'Date', 'Close price' and 'Privious close price' Columns"
   ]
  },
  {
   "cell_type": "code",
   "execution_count": 8,
   "metadata": {},
   "outputs": [],
   "source": [
    "hdfc_close_price.drop(['Symbol', 'Series', 'Open Price', 'High Price',\n",
    "       'Low Price', 'Last Price', 'Average Price',\n",
    "       'Total Traded Quantity', 'Turnover', 'No. of Trades', 'Deliverable Qty',\n",
    "       '% Dly Qt to Traded Qty'], axis = 1 , inplace= True)"
   ]
  },
  {
   "cell_type": "code",
   "execution_count": 9,
   "metadata": {
    "scrolled": false
   },
   "outputs": [
    {
     "data": {
      "text/html": [
       "<div>\n",
       "<style scoped>\n",
       "    .dataframe tbody tr th:only-of-type {\n",
       "        vertical-align: middle;\n",
       "    }\n",
       "\n",
       "    .dataframe tbody tr th {\n",
       "        vertical-align: top;\n",
       "    }\n",
       "\n",
       "    .dataframe thead th {\n",
       "        text-align: right;\n",
       "    }\n",
       "</style>\n",
       "<table border=\"1\" class=\"dataframe\">\n",
       "  <thead>\n",
       "    <tr style=\"text-align: right;\">\n",
       "      <th></th>\n",
       "      <th>Date</th>\n",
       "      <th>Prev Close</th>\n",
       "      <th>Close Price</th>\n",
       "    </tr>\n",
       "  </thead>\n",
       "  <tbody>\n",
       "    <tr>\n",
       "      <th>0</th>\n",
       "      <td>01-Jan-2021</td>\n",
       "      <td>2558.65</td>\n",
       "      <td>2568.75</td>\n",
       "    </tr>\n",
       "    <tr>\n",
       "      <th>2</th>\n",
       "      <td>04-Jan-2021</td>\n",
       "      <td>2568.75</td>\n",
       "      <td>2578.50</td>\n",
       "    </tr>\n",
       "    <tr>\n",
       "      <th>4</th>\n",
       "      <td>05-Jan-2021</td>\n",
       "      <td>2578.50</td>\n",
       "      <td>2651.85</td>\n",
       "    </tr>\n",
       "    <tr>\n",
       "      <th>6</th>\n",
       "      <td>06-Jan-2021</td>\n",
       "      <td>2651.85</td>\n",
       "      <td>2638.85</td>\n",
       "    </tr>\n",
       "    <tr>\n",
       "      <th>8</th>\n",
       "      <td>07-Jan-2021</td>\n",
       "      <td>2638.85</td>\n",
       "      <td>2661.35</td>\n",
       "    </tr>\n",
       "  </tbody>\n",
       "</table>\n",
       "</div>"
      ],
      "text/plain": [
       "          Date  Prev Close  Close Price\n",
       "0  01-Jan-2021     2558.65      2568.75\n",
       "2  04-Jan-2021     2568.75      2578.50\n",
       "4  05-Jan-2021     2578.50      2651.85\n",
       "6  06-Jan-2021     2651.85      2638.85\n",
       "8  07-Jan-2021     2638.85      2661.35"
      ]
     },
     "execution_count": 9,
     "metadata": {},
     "output_type": "execute_result"
    }
   ],
   "source": [
    "hdfc_close_price.head()"
   ]
  },
  {
   "cell_type": "code",
   "execution_count": 10,
   "metadata": {},
   "outputs": [],
   "source": [
    "## chaning date column data type from string to Date type\n",
    "hdfc_close_price['Date']= pd.to_datetime(hdfc_close_price['Date'])"
   ]
  },
  {
   "cell_type": "code",
   "execution_count": 11,
   "metadata": {},
   "outputs": [
    {
     "data": {
      "text/html": [
       "<div>\n",
       "<style scoped>\n",
       "    .dataframe tbody tr th:only-of-type {\n",
       "        vertical-align: middle;\n",
       "    }\n",
       "\n",
       "    .dataframe tbody tr th {\n",
       "        vertical-align: top;\n",
       "    }\n",
       "\n",
       "    .dataframe thead th {\n",
       "        text-align: right;\n",
       "    }\n",
       "</style>\n",
       "<table border=\"1\" class=\"dataframe\">\n",
       "  <thead>\n",
       "    <tr style=\"text-align: right;\">\n",
       "      <th></th>\n",
       "      <th>Date</th>\n",
       "      <th>Prev Close</th>\n",
       "      <th>Close Price</th>\n",
       "    </tr>\n",
       "  </thead>\n",
       "  <tbody>\n",
       "    <tr>\n",
       "      <th>0</th>\n",
       "      <td>2021-01-01</td>\n",
       "      <td>2558.65</td>\n",
       "      <td>2568.75</td>\n",
       "    </tr>\n",
       "    <tr>\n",
       "      <th>2</th>\n",
       "      <td>2021-01-04</td>\n",
       "      <td>2568.75</td>\n",
       "      <td>2578.50</td>\n",
       "    </tr>\n",
       "    <tr>\n",
       "      <th>4</th>\n",
       "      <td>2021-01-05</td>\n",
       "      <td>2578.50</td>\n",
       "      <td>2651.85</td>\n",
       "    </tr>\n",
       "    <tr>\n",
       "      <th>6</th>\n",
       "      <td>2021-01-06</td>\n",
       "      <td>2651.85</td>\n",
       "      <td>2638.85</td>\n",
       "    </tr>\n",
       "    <tr>\n",
       "      <th>8</th>\n",
       "      <td>2021-01-07</td>\n",
       "      <td>2638.85</td>\n",
       "      <td>2661.35</td>\n",
       "    </tr>\n",
       "  </tbody>\n",
       "</table>\n",
       "</div>"
      ],
      "text/plain": [
       "        Date  Prev Close  Close Price\n",
       "0 2021-01-01     2558.65      2568.75\n",
       "2 2021-01-04     2568.75      2578.50\n",
       "4 2021-01-05     2578.50      2651.85\n",
       "6 2021-01-06     2651.85      2638.85\n",
       "8 2021-01-07     2638.85      2661.35"
      ]
     },
     "execution_count": 11,
     "metadata": {},
     "output_type": "execute_result"
    }
   ],
   "source": [
    "hdfc_close_price.head()"
   ]
  },
  {
   "cell_type": "code",
   "execution_count": 12,
   "metadata": {},
   "outputs": [],
   "source": [
    "## Sorting Data according to Date column\n",
    "hdfc_close_price.sort_values(by='Date',ascending=True,inplace= True)"
   ]
  },
  {
   "cell_type": "code",
   "execution_count": 13,
   "metadata": {
    "scrolled": true
   },
   "outputs": [],
   "source": [
    "## setting Date column as a index of table\n",
    "\n",
    "hdfc_close_price.set_index('Date',inplace= True)"
   ]
  },
  {
   "cell_type": "code",
   "execution_count": 14,
   "metadata": {},
   "outputs": [],
   "source": [
    "## Creating Daily return column \n",
    "\n",
    "hdfc_close_price['daily_return']  = (\n",
    " \n",
    "                                      100*( np.log(hdfc_close_price['Close Price']/hdfc_close_price['Prev Close'])) \n",
    "                                     ).round(decimals=2)"
   ]
  },
  {
   "cell_type": "markdown",
   "metadata": {},
   "source": [
    "- TOTAL NUMBER OF SHARE is around  5.5Bn  (5526719098 ) assuming in last 10 year there was no share split or number of share is constant"
   ]
  },
  {
   "cell_type": "code",
   "execution_count": 15,
   "metadata": {},
   "outputs": [],
   "source": [
    "hdfc_close_price['Market cap(bn Rs)']  = hdfc_close_price['Close Price']*5.5"
   ]
  },
  {
   "cell_type": "code",
   "execution_count": 16,
   "metadata": {},
   "outputs": [
    {
     "data": {
      "text/html": [
       "<div>\n",
       "<style scoped>\n",
       "    .dataframe tbody tr th:only-of-type {\n",
       "        vertical-align: middle;\n",
       "    }\n",
       "\n",
       "    .dataframe tbody tr th {\n",
       "        vertical-align: top;\n",
       "    }\n",
       "\n",
       "    .dataframe thead th {\n",
       "        text-align: right;\n",
       "    }\n",
       "</style>\n",
       "<table border=\"1\" class=\"dataframe\">\n",
       "  <thead>\n",
       "    <tr style=\"text-align: right;\">\n",
       "      <th></th>\n",
       "      <th>Prev Close</th>\n",
       "      <th>Close Price</th>\n",
       "      <th>daily_return</th>\n",
       "      <th>Market cap(bn Rs)</th>\n",
       "    </tr>\n",
       "    <tr>\n",
       "      <th>Date</th>\n",
       "      <th></th>\n",
       "      <th></th>\n",
       "      <th></th>\n",
       "      <th></th>\n",
       "    </tr>\n",
       "  </thead>\n",
       "  <tbody>\n",
       "    <tr>\n",
       "      <th>2011-01-03</th>\n",
       "      <td>728.35</td>\n",
       "      <td>728.20</td>\n",
       "      <td>-0.02</td>\n",
       "      <td>4005.100</td>\n",
       "    </tr>\n",
       "    <tr>\n",
       "      <th>2011-01-04</th>\n",
       "      <td>728.20</td>\n",
       "      <td>731.75</td>\n",
       "      <td>0.49</td>\n",
       "      <td>4024.625</td>\n",
       "    </tr>\n",
       "    <tr>\n",
       "      <th>2011-01-05</th>\n",
       "      <td>731.75</td>\n",
       "      <td>708.10</td>\n",
       "      <td>-3.29</td>\n",
       "      <td>3894.550</td>\n",
       "    </tr>\n",
       "    <tr>\n",
       "      <th>2011-01-06</th>\n",
       "      <td>708.10</td>\n",
       "      <td>706.90</td>\n",
       "      <td>-0.17</td>\n",
       "      <td>3887.950</td>\n",
       "    </tr>\n",
       "    <tr>\n",
       "      <th>2011-01-07</th>\n",
       "      <td>706.90</td>\n",
       "      <td>683.90</td>\n",
       "      <td>-3.31</td>\n",
       "      <td>3761.450</td>\n",
       "    </tr>\n",
       "  </tbody>\n",
       "</table>\n",
       "</div>"
      ],
      "text/plain": [
       "            Prev Close  Close Price  daily_return  Market cap(bn Rs)\n",
       "Date                                                                \n",
       "2011-01-03      728.35       728.20         -0.02           4005.100\n",
       "2011-01-04      728.20       731.75          0.49           4024.625\n",
       "2011-01-05      731.75       708.10         -3.29           3894.550\n",
       "2011-01-06      708.10       706.90         -0.17           3887.950\n",
       "2011-01-07      706.90       683.90         -3.31           3761.450"
      ]
     },
     "execution_count": 16,
     "metadata": {},
     "output_type": "execute_result"
    }
   ],
   "source": [
    "hdfc_close_price.head()"
   ]
  },
  {
   "cell_type": "markdown",
   "metadata": {},
   "source": [
    "## plot close price over the time period "
   ]
  },
  {
   "cell_type": "code",
   "execution_count": 17,
   "metadata": {},
   "outputs": [
    {
     "data": {
      "text/plain": [
       "Text(0, 0.5, 'Close price')"
      ]
     },
     "execution_count": 17,
     "metadata": {},
     "output_type": "execute_result"
    },
    {
     "data": {
      "image/png": "[encoded data removed]",
      "text/plain": [
       "<Figure size 1080x432 with 1 Axes>"
      ]
     },
     "metadata": {
      "needs_background": "light"
     },
     "output_type": "display_data"
    }
   ],
   "source": [
    "fig = plt.figure(figsize=(15,6))\n",
    "plt.plot(hdfc_close_price.index,hdfc_close_price['Close Price'],color='green')\n",
    "fig.suptitle('HDFC LTD Daily Close price over last 10 years  ')\n",
    "plt.xlabel('Date')\n",
    "plt.ylabel('Close price')"
   ]
  },
  {
   "cell_type": "markdown",
   "metadata": {},
   "source": [
    "## Plot the time series of Daily returns."
   ]
  },
  {
   "cell_type": "code",
   "execution_count": 18,
   "metadata": {},
   "outputs": [
    {
     "data": {
      "text/plain": [
       "Text(0, 0.5, 'daily Return')"
      ]
     },
     "execution_count": 18,
     "metadata": {},
     "output_type": "execute_result"
    },
    {
     "data": {
      "image/png": "[encoded data removed]",
      "text/plain": [
       "<Figure size 1080x288 with 1 Axes>"
      ]
     },
     "metadata": {
      "needs_background": "light"
     },
     "output_type": "display_data"
    }
   ],
   "source": [
    "fig = plt.figure(figsize=(15,4))\n",
    "plt.plot(hdfc_close_price.index,hdfc_close_price['daily_return'],color='red')\n",
    "fig.suptitle('HDFC LTD Daily return  over last 10 years  ')\n",
    "plt.xlabel('Date')\n",
    "plt.ylabel('daily Return')"
   ]
  },
  {
   "cell_type": "markdown",
   "metadata": {},
   "source": [
    "## Test if the returns are iid (Independent and Identically Distributed) .\n",
    "."
   ]
  },
  {
   "cell_type": "markdown",
   "metadata": {},
   "source": [
    "###  If the data are IID then the time series plot should consist of points which\n",
    "- 1) appear randomly scattered vertically about the center (sample median/mean) of the data, that is, the points do not exhibit an increasing, decreasing,or otherwise systematic trend about the center over time\n",
    "\n",
    "- 2) appear to have a constant degree of vertical dispersion or scatter, that is, the amountof variability does not exhibit an increasing, decreasing, or otherwise systematic trend over time.\n",
    "\n",
    "\n",
    "- Conlusion , Since above graph almost follow  these two properties ,so we can say return is IID"
   ]
  },
  {
   "cell_type": "markdown",
   "metadata": {},
   "source": [
    "## Calculate the summary statistics for the full sample, and the last five years."
   ]
  },
  {
   "cell_type": "code",
   "execution_count": 19,
   "metadata": {
    "scrolled": true
   },
   "outputs": [
    {
     "data": {
      "text/html": [
       "<div>\n",
       "<style scoped>\n",
       "    .dataframe tbody tr th:only-of-type {\n",
       "        vertical-align: middle;\n",
       "    }\n",
       "\n",
       "    .dataframe tbody tr th {\n",
       "        vertical-align: top;\n",
       "    }\n",
       "\n",
       "    .dataframe thead th {\n",
       "        text-align: right;\n",
       "    }\n",
       "</style>\n",
       "<table border=\"1\" class=\"dataframe\">\n",
       "  <thead>\n",
       "    <tr style=\"text-align: right;\">\n",
       "      <th></th>\n",
       "      <th>Prev Close</th>\n",
       "      <th>Close Price</th>\n",
       "      <th>daily_return</th>\n",
       "      <th>Market cap(bn Rs)</th>\n",
       "    </tr>\n",
       "  </thead>\n",
       "  <tbody>\n",
       "    <tr>\n",
       "      <th>count</th>\n",
       "      <td>2676.000000</td>\n",
       "      <td>2676.000000</td>\n",
       "      <td>2676.000000</td>\n",
       "      <td>2676.000000</td>\n",
       "    </tr>\n",
       "    <tr>\n",
       "      <th>mean</th>\n",
       "      <td>1409.824570</td>\n",
       "      <td>1410.612874</td>\n",
       "      <td>0.052052</td>\n",
       "      <td>7758.370805</td>\n",
       "    </tr>\n",
       "    <tr>\n",
       "      <th>std</th>\n",
       "      <td>608.473656</td>\n",
       "      <td>608.917927</td>\n",
       "      <td>1.825826</td>\n",
       "      <td>3349.048600</td>\n",
       "    </tr>\n",
       "    <tr>\n",
       "      <th>min</th>\n",
       "      <td>589.150000</td>\n",
       "      <td>589.150000</td>\n",
       "      <td>-14.270000</td>\n",
       "      <td>3240.325000</td>\n",
       "    </tr>\n",
       "    <tr>\n",
       "      <th>25%</th>\n",
       "      <td>820.850000</td>\n",
       "      <td>821.075000</td>\n",
       "      <td>-0.942500</td>\n",
       "      <td>4515.912500</td>\n",
       "    </tr>\n",
       "    <tr>\n",
       "      <th>50%</th>\n",
       "      <td>1287.525000</td>\n",
       "      <td>1287.925000</td>\n",
       "      <td>0.025000</td>\n",
       "      <td>7083.587500</td>\n",
       "    </tr>\n",
       "    <tr>\n",
       "      <th>75%</th>\n",
       "      <td>1873.987500</td>\n",
       "      <td>1874.862500</td>\n",
       "      <td>1.050000</td>\n",
       "      <td>10311.743750</td>\n",
       "    </tr>\n",
       "    <tr>\n",
       "      <th>max</th>\n",
       "      <td>2860.450000</td>\n",
       "      <td>2860.450000</td>\n",
       "      <td>9.700000</td>\n",
       "      <td>15732.475000</td>\n",
       "    </tr>\n",
       "  </tbody>\n",
       "</table>\n",
       "</div>"
      ],
      "text/plain": [
       "        Prev Close  Close Price  daily_return  Market cap(bn Rs)\n",
       "count  2676.000000  2676.000000   2676.000000        2676.000000\n",
       "mean   1409.824570  1410.612874      0.052052        7758.370805\n",
       "std     608.473656   608.917927      1.825826        3349.048600\n",
       "min     589.150000   589.150000    -14.270000        3240.325000\n",
       "25%     820.850000   821.075000     -0.942500        4515.912500\n",
       "50%    1287.525000  1287.925000      0.025000        7083.587500\n",
       "75%    1873.987500  1874.862500      1.050000       10311.743750\n",
       "max    2860.450000  2860.450000      9.700000       15732.475000"
      ]
     },
     "execution_count": 19,
     "metadata": {},
     "output_type": "execute_result"
    }
   ],
   "source": [
    "## for the full sample,\n",
    "\n",
    "hdfc_close_price.describe()"
   ]
  },
  {
   "cell_type": "code",
   "execution_count": 20,
   "metadata": {},
   "outputs": [
    {
     "name": "stdout",
     "output_type": "stream",
     "text": [
      "kurtosis, Skewness of Prev Close -0.9038943421498753 0.4489395874470477\n",
      "kurtosis, Skewness of Close Price -0.9026486515730077 0.4492142641352591\n",
      "kurtosis, Skewness of daily_return 4.995479827792283 -0.23296182488717573\n",
      "kurtosis, Skewness of Market cap(bn Rs) -0.9026486515730081 0.44921426413526017\n"
     ]
    }
   ],
   "source": [
    "for i in hdfc_close_price.columns :\n",
    "    print('kurtosis, Skewness of' ,i ,kurtosis(hdfc_close_price[i]) , skew(hdfc_close_price[i]))"
   ]
  },
  {
   "cell_type": "code",
   "execution_count": 21,
   "metadata": {},
   "outputs": [],
   "source": [
    "## for the last five year ,"
   ]
  },
  {
   "cell_type": "code",
   "execution_count": 22,
   "metadata": {},
   "outputs": [],
   "source": [
    "inv = hdfc_close_price.index > '2015-1-3'"
   ]
  },
  {
   "cell_type": "code",
   "execution_count": 23,
   "metadata": {},
   "outputs": [],
   "source": [
    "hdfc_close_price_last5yr = hdfc_close_price[hdfc_close_price.index > '2015-12-31' ]"
   ]
  },
  {
   "cell_type": "code",
   "execution_count": 24,
   "metadata": {},
   "outputs": [
    {
     "data": {
      "text/html": [
       "<div>\n",
       "<style scoped>\n",
       "    .dataframe tbody tr th:only-of-type {\n",
       "        vertical-align: middle;\n",
       "    }\n",
       "\n",
       "    .dataframe tbody tr th {\n",
       "        vertical-align: top;\n",
       "    }\n",
       "\n",
       "    .dataframe thead th {\n",
       "        text-align: right;\n",
       "    }\n",
       "</style>\n",
       "<table border=\"1\" class=\"dataframe\">\n",
       "  <thead>\n",
       "    <tr style=\"text-align: right;\">\n",
       "      <th></th>\n",
       "      <th>Prev Close</th>\n",
       "      <th>Close Price</th>\n",
       "      <th>daily_return</th>\n",
       "      <th>Market cap(bn Rs)</th>\n",
       "    </tr>\n",
       "  </thead>\n",
       "  <tbody>\n",
       "    <tr>\n",
       "      <th>count</th>\n",
       "      <td>1433.000000</td>\n",
       "      <td>1433.000000</td>\n",
       "      <td>1433.000000</td>\n",
       "      <td>1433.000000</td>\n",
       "    </tr>\n",
       "    <tr>\n",
       "      <th>mean</th>\n",
       "      <td>1869.863468</td>\n",
       "      <td>1870.941626</td>\n",
       "      <td>0.055694</td>\n",
       "      <td>10290.178943</td>\n",
       "    </tr>\n",
       "    <tr>\n",
       "      <th>std</th>\n",
       "      <td>439.055116</td>\n",
       "      <td>439.462472</td>\n",
       "      <td>1.870934</td>\n",
       "      <td>2417.043595</td>\n",
       "    </tr>\n",
       "    <tr>\n",
       "      <th>min</th>\n",
       "      <td>1022.100000</td>\n",
       "      <td>1022.100000</td>\n",
       "      <td>-14.270000</td>\n",
       "      <td>5621.550000</td>\n",
       "    </tr>\n",
       "    <tr>\n",
       "      <th>25%</th>\n",
       "      <td>1580.300000</td>\n",
       "      <td>1583.500000</td>\n",
       "      <td>-0.890000</td>\n",
       "      <td>8709.250000</td>\n",
       "    </tr>\n",
       "    <tr>\n",
       "      <th>50%</th>\n",
       "      <td>1838.100000</td>\n",
       "      <td>1839.150000</td>\n",
       "      <td>0.030000</td>\n",
       "      <td>10115.325000</td>\n",
       "    </tr>\n",
       "    <tr>\n",
       "      <th>75%</th>\n",
       "      <td>2168.100000</td>\n",
       "      <td>2172.800000</td>\n",
       "      <td>1.010000</td>\n",
       "      <td>11950.400000</td>\n",
       "    </tr>\n",
       "    <tr>\n",
       "      <th>max</th>\n",
       "      <td>2860.450000</td>\n",
       "      <td>2860.450000</td>\n",
       "      <td>9.700000</td>\n",
       "      <td>15732.475000</td>\n",
       "    </tr>\n",
       "  </tbody>\n",
       "</table>\n",
       "</div>"
      ],
      "text/plain": [
       "        Prev Close  Close Price  daily_return  Market cap(bn Rs)\n",
       "count  1433.000000  1433.000000   1433.000000        1433.000000\n",
       "mean   1869.863468  1870.941626      0.055694       10290.178943\n",
       "std     439.055116   439.462472      1.870934        2417.043595\n",
       "min    1022.100000  1022.100000    -14.270000        5621.550000\n",
       "25%    1580.300000  1583.500000     -0.890000        8709.250000\n",
       "50%    1838.100000  1839.150000      0.030000       10115.325000\n",
       "75%    2168.100000  2172.800000      1.010000       11950.400000\n",
       "max    2860.450000  2860.450000      9.700000       15732.475000"
      ]
     },
     "execution_count": 24,
     "metadata": {},
     "output_type": "execute_result"
    }
   ],
   "source": [
    "hdfc_close_price_last5yr.describe()"
   ]
  },
  {
   "cell_type": "code",
   "execution_count": 25,
   "metadata": {},
   "outputs": [
    {
     "name": "stdout",
     "output_type": "stream",
     "text": [
      "kurtosis, Skewness of Prev Close -0.6588571562423517 0.18917674551169653\n",
      "kurtosis, Skewness of Close Price -0.6573960397483507 0.189933396030295\n",
      "kurtosis, Skewness of daily_return 7.627025953132698 -0.46688956592284636\n",
      "kurtosis, Skewness of Market cap(bn Rs) -0.6573960397483507 0.18993339603029621\n"
     ]
    }
   ],
   "source": [
    "for i in hdfc_close_price_last5yr.columns :\n",
    "    print('kurtosis, Skewness of' ,i ,kurtosis(hdfc_close_price_last5yr[i]) , skew(hdfc_close_price_last5yr[i]))"
   ]
  },
  {
   "cell_type": "code",
   "execution_count": null,
   "metadata": {},
   "outputs": [],
   "source": []
  }
 ],
 "metadata": {
  "kernelspec": {
   "display_name": "Python 3",
   "language": "python",
   "name": "python3"
  },
  "language_info": {
   "codemirror_mode": {
    "name": "ipython",
    "version": 3
   },
   "file_extension": ".py",
   "mimetype": "text/x-python",
   "name": "python",
   "nbconvert_exporter": "python",
   "pygments_lexer": "ipython3",
   "version": "3.8.5"
  }
 },
 "nbformat": 4,
 "nbformat_minor": 4
}
